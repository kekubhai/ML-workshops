{
  "nbformat": 4,
  "nbformat_minor": 0,
  "metadata": {
    "colab": {
      "provenance": [],
      "authorship_tag": "ABX9TyO1JMP1WVwhzhNCt7RePbxn",
      "include_colab_link": true
    },
    "kernelspec": {
      "name": "python3",
      "display_name": "Python 3"
    },
    "language_info": {
      "name": "python"
    }
  },
  "cells": [
    {
      "cell_type": "markdown",
      "metadata": {
        "id": "view-in-github",
        "colab_type": "text"
      },
      "source": [
        "<a href=\"https://colab.research.google.com/github/kekubhai/ML-workshops/blob/master/GridSearchCV.ipynb\" target=\"_parent\"><img src=\"https://colab.research.google.com/assets/colab-badge.svg\" alt=\"Open In Colab\"/></a>"
      ]
    },
    {
      "cell_type": "code",
      "execution_count": 1,
      "metadata": {
        "colab": {
          "base_uri": "https://localhost:8080/"
        },
        "id": "_4xlixYBdJMI",
        "outputId": "52bcd0a3-2fde-43fb-a731-0208394276b3"
      },
      "outputs": [
        {
          "output_type": "stream",
          "name": "stdout",
          "text": [
            "Fitting 5 folds for each of 60 candidates, totalling 300 fits\n",
            "Best Parameters: {'C': 1, 'gamma': 'scale', 'kernel': 'poly'}\n",
            "Best Estimator: SVC(C=1, kernel='poly')\n",
            "\n",
            "Accuracy: 0.9777777777777777\n",
            "\n",
            "Classification Report:\n",
            "               precision    recall  f1-score   support\n",
            "\n",
            "           0       1.00      1.00      1.00        19\n",
            "           1       1.00      0.92      0.96        13\n",
            "           2       0.93      1.00      0.96        13\n",
            "\n",
            "    accuracy                           0.98        45\n",
            "   macro avg       0.98      0.97      0.97        45\n",
            "weighted avg       0.98      0.98      0.98        45\n",
            "\n"
          ]
        }
      ],
      "source": [
        "from sklearn import datasets\n",
        "from sklearn.model_selection import train_test_split, GridSearchCV\n",
        "from sklearn.svm import SVC\n",
        "from sklearn.metrics import accuracy_score, classification_report\n",
        "\n",
        "# 1. Load dataset\n",
        "iris = datasets.load_iris()\n",
        "X, y = iris.data, iris.target\n",
        "\n",
        "# 2. Train-test split\n",
        "X_train, X_test, y_train, y_test = train_test_split(X, y, test_size=0.3, random_state=42)\n",
        "\n",
        "# 3. Define parameter grid\n",
        "param_grid = {\n",
        "    'C': [0.1, 1, 10, 100],         # Regularization\n",
        "    'gamma': ['scale', 'auto', 0.1, 1, 10],  # Kernel coefficient\n",
        "    'kernel': ['linear', 'rbf', 'poly']      # Different kernels\n",
        "}\n",
        "\n",
        "# 4. Initialize GridSearchCV\n",
        "grid = GridSearchCV(SVC(), param_grid, refit=True, cv=5, n_jobs=-1, verbose=1)\n",
        "\n",
        "# 5. Fit model\n",
        "grid.fit(X_train, y_train)\n",
        "\n",
        "# 6. Best parameters and estimator\n",
        "print(\"Best Parameters:\", grid.best_params_)\n",
        "print(\"Best Estimator:\", grid.best_estimator_)\n",
        "\n",
        "# 7. Evaluate on test set\n",
        "y_pred = grid.predict(X_test)\n",
        "print(\"\\nAccuracy:\", accuracy_score(y_test, y_pred))\n",
        "print(\"\\nClassification Report:\\n\", classification_report(y_test, y_pred))\n"
      ]
    },
    {
      "cell_type": "code",
      "source": [],
      "metadata": {
        "id": "hhyn8wBydKN8"
      },
      "execution_count": null,
      "outputs": []
    }
  ]
}